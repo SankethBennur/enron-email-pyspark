{
 "cells": [
  {
   "cell_type": "code",
   "execution_count": null,
   "metadata": {},
   "outputs": [],
   "source": [
    "from email.parser import Parser\n",
    "import re\n",
    "import time\n",
    "from datetime import datetime, timezone, timedelta\n",
    "import operator\n",
    "\n",
    "# import pyspark\n",
    "# sc = pyspark.SparkContext()\n",
    "\n",
    "def date_to_dt(date):\n",
    "    def to_dt(tms):\n",
    "        def tz():\n",
    "            return timezone(timedelta(seconds=tms.tm_gmtoff))\n",
    "        return datetime(tms.tm_year, tms.tm_mon, tms.tm_mday, \n",
    "                      tms.tm_hour, tms.tm_min, tms.tm_sec, \n",
    "                      tzinfo=tz())\n",
    "    return to_dt(time.strptime(date[:-6], '%a, %d %b %Y %H:%M:%S %z'))\n",
    "\n",
    "def utf8_decode_and_filter(rdd):\n",
    "    def utf_decode(s):\n",
    "        try:\n",
    "          return str(s, 'utf-8')\n",
    "        except:\n",
    "            pass\n",
    "    return rdd.map(lambda x: utf_decode(x[1])).filter(lambda x: x != None)"
   ]
  },
  {
   "cell_type": "markdown",
   "metadata": {},
   "source": [
    "################################################\n",
    "#\n",
    "# REMEMBER:\n",
    "# get_out_degrees(RDD) function for me.\n",
    "# get_out_degree_dist(rdd) function for you.\n",
    "#\n",
    "#\n",
    "#\n",
    "#\n",
    "# use your student ID for retrieving data:\n",
    "# /user/your-id/project/enron20.seq\n",
    "#\n",
    "#\n",
    "##############################################"
   ]
  },
  {
   "cell_type": "code",
   "execution_count": null,
   "metadata": {},
   "outputs": [],
   "source": [
    "def extract_email_network(rdd):\n",
    "    \n",
    "    email_regex =  \"[\\w!#$%&'+-/=?^_`{|}~]+@([\\w]+\\.)[\\w][a-zA-Z]+[\\w]\"\n",
    "    enron_regex = \"[@(.)]enron[(.)]\"\n",
    "    space_regex = '(\\n\\t)'\n",
    "\n",
    "    snd_rec_vec = lambda x, y, t: [(x, val, t) for val in y]\n",
    "    \n",
    "    Q1_rdd_0 = rdd.map(lambda x: Parser().parsestr(x))\n",
    "    Q1_rdd_1 = Q1_rdd_0.map(lambda x: (x.get('From'), str(x.get('To')).split(', '), date_to_dt(x.get('Date'))))\n",
    "    Q1_rdd_2 = Q1_rdd_1.flatMap(lambda X: snd_rec_vec(X[0], X[1], X[2]))\n",
    "    # rdd_2 = rdd_1.flatMap(lambda x: [(x[0], i, x[2]) for i in x[1]])\n",
    "    \n",
    "    # To filter Valid and Non-enron mails\n",
    "\n",
    "    # Valid\n",
    "    Q1_rdd_3 = Q1_rdd_2.filter(lambda x: (re.search(email_regex, x[0])))\n",
    "    Q1_rdd_3 = Q1_rdd_3.filter(lambda x: (re.search(email_regex, x[1])))\n",
    "\n",
    "    # Non-enron mails\n",
    "    Q1_rdd_3 = Q1_rdd_3.filter(lambda x: re.search(enron_regex, x[0]))\n",
    "    Q1_rdd_3 = Q1_rdd_3.filter(lambda x: re.search(enron_regex, x[1]))\n",
    "    \n",
    "    # Eliminating self-loops\n",
    "    Q1_rdd_4 = Q1_rdd_3.filter(lambda x: x[0] != x[1])\n",
    "\n",
    "    # Removing '\\n\\t' from emails\n",
    "    Q1_rdd_5 = Q1_rdd_4.map(lambda x: (x[0], x[1].lstrip(space_regex), x[2]))\n",
    "    \n",
    "    return Q1_rdd_5"
   ]
  },
  {
   "cell_type": "code",
   "execution_count": null,
   "metadata": {},
   "outputs": [],
   "source": [
    "def convert_to_weighted_network(rdd, drange=None):\n",
    "\n",
    "    if (drange != None):\n",
    "        rdd = rdd.filter(lambda x: x[2] >= drange[0])\n",
    "        rdd = rdd.filter(lambda x: x[2] <= drange[1])\n",
    "\n",
    "    Q2_RDD = rdd.map(lambda x: ((x[0], x[1]), 1)) \\\n",
    "                .reduceByKey(operator.add) \\\n",
    "                .map(lambda x: (x[0][0], x[0][1], x[1]))\n",
    "    \n",
    "    return Q2_RDD    "
   ]
  },
  {
   "cell_type": "code",
   "execution_count": null,
   "metadata": {},
   "outputs": [],
   "source": [
    "def get_out_degrees(rdd):\n",
    "    \n",
    "    Q3i_RDD = rdd.map(lambda x: (x[0], x[2])) \\\n",
    "                    .reduceByKey(operator.add) \\\n",
    "                    .map(lambda x: (x[1], x[0])) \\\n",
    "                    .sortBy(lambda x: x[0], ascending = False)\n",
    "\n",
    "    return Q3i_RDD"
   ]
  },
  {
   "cell_type": "code",
   "execution_count": null,
   "metadata": {},
   "outputs": [],
   "source": [
    "def get_in_degrees(rdd):\n",
    "    \n",
    "    Q3ii_RDD = rdd.map(lambda x: (x[1], x[2])) \\\n",
    "                    .reduceByKey(operator.add) \\\n",
    "                    .map(lambda x: (x[1], x[0])) \\\n",
    "                    .sortBy(lambda x: x[0], ascending = False)\n",
    "\n",
    "    return Q3ii_RDD"
   ]
  },
  {
   "cell_type": "code",
   "execution_count": null,
   "metadata": {},
   "outputs": [],
   "source": [
    "def get_out_degree_dist(rdd):\n",
    "    Q4i_RDD = get_out_degrees(rdd)\n",
    "    Q4i_RDD = Q4i_RDD.map(lambda x: (x[0], 1)) \\\n",
    "                        .reduceByKey(operator.add) \\\n",
    "                        .sortBy(lambda x: x[0])\n",
    "\n",
    "    return Q4i_RDD"
   ]
  },
  {
   "cell_type": "code",
   "execution_count": null,
   "metadata": {},
   "outputs": [],
   "source": [
    "def get_in_degree_dist(rdd):\n",
    "    Q4ii_RDD = get_in_degrees(rdd)\n",
    "    Q4ii_RDD = Q4ii_RDD.map(lambda x: (x[0], 1)) \\\n",
    "                        .reduceByKey(operator.add) \\\n",
    "                        .sortBy(lambda x: x[0])\n",
    "\n",
    "    return Q4ii_RDD"
   ]
  },
  {
   "cell_type": "code",
   "execution_count": 1,
   "metadata": {},
   "outputs": [],
   "source": [
    "###########################"
   ]
  },
  {
   "cell_type": "code",
   "execution_count": null,
   "metadata": {},
   "outputs": [],
   "source": [
    "# For Question 2:\n",
    "#\n",
    "# My Data Slice:\n",
    "Q2_RDD = convert_to_weighted_network(Q1_RDD)\n",
    "q2sanketh = sc.parallelize(Q2_RDD.collect()[0:int((Q2_RDD.count()/2))])\n",
    "\n",
    "# \n",
    "#\n",
    "# Your Data Slice:\n",
    "q2guru = sc.parallelize(Q2_RDD.collect()[int((Q2_RDD.count()/2)) : int(Q2_RDD.count())])"
   ]
  }
 ],
 "metadata": {
  "kernelspec": {
   "display_name": "Python 3",
   "language": "python",
   "name": "python3"
  },
  "language_info": {
   "codemirror_mode": {
    "name": "ipython",
    "version": 3
   },
   "file_extension": ".py",
   "mimetype": "text/x-python",
   "name": "python",
   "nbconvert_exporter": "python",
   "pygments_lexer": "ipython3",
   "version": "3.8.5"
  }
 },
 "nbformat": 4,
 "nbformat_minor": 4
}
